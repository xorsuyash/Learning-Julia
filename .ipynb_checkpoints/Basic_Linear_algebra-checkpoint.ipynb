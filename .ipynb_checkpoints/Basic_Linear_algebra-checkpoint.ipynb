{
 "cells": [
  {
   "cell_type": "code",
   "execution_count": 2,
   "id": "c8fef1ae",
   "metadata": {},
   "outputs": [
    {
     "data": {
      "text/plain": [
       "3×3 Matrix{Int64}:\n",
       " 2  1  1\n",
       " 4  1  3\n",
       " 3  1  4"
      ]
     },
     "execution_count": 2,
     "metadata": {},
     "output_type": "execute_result"
    }
   ],
   "source": [
    "A=rand(1:4,3,3)"
   ]
  },
  {
   "cell_type": "code",
   "execution_count": 3,
   "id": "da4feb32",
   "metadata": {},
   "outputs": [
    {
     "data": {
      "text/plain": [
       "3×6 Matrix{Int64}:\n",
       " 2  1  1  2  1  1\n",
       " 4  1  3  4  1  3\n",
       " 3  1  4  3  1  4"
      ]
     },
     "execution_count": 3,
     "metadata": {},
     "output_type": "execute_result"
    }
   ],
   "source": [
    "B=A\n",
    "C=copy(A)\n",
    "[B C]"
   ]
  },
  {
   "cell_type": "code",
   "execution_count": 4,
   "id": "fd2d04c4",
   "metadata": {},
   "outputs": [
    {
     "data": {
      "text/plain": [
       "3×6 Matrix{Int64}:\n",
       " 17  1  1  2  1  1\n",
       "  4  1  3  4  1  3\n",
       "  3  1  4  3  1  4"
      ]
     },
     "execution_count": 4,
     "metadata": {},
     "output_type": "execute_result"
    }
   ],
   "source": [
    "A[1]=17\n",
    "[B C]"
   ]
  },
  {
   "cell_type": "code",
   "execution_count": 6,
   "id": "6318dbab",
   "metadata": {},
   "outputs": [
    {
     "data": {
      "text/plain": [
       "3-element Vector{Float64}:\n",
       " 1.0\n",
       " 1.0\n",
       " 1.0"
      ]
     },
     "execution_count": 6,
     "metadata": {},
     "output_type": "execute_result"
    }
   ],
   "source": [
    "x=ones(3)"
   ]
  },
  {
   "cell_type": "code",
   "execution_count": 7,
   "id": "faea1850",
   "metadata": {},
   "outputs": [
    {
     "data": {
      "text/plain": [
       "3×3 Matrix{Float64}:\n",
       " 0.556989   0.243958  0.803898\n",
       " 0.180433   0.839172  0.794817\n",
       " 0.0233919  0.998172  0.0395764"
      ]
     },
     "execution_count": 7,
     "metadata": {},
     "output_type": "execute_result"
    }
   ],
   "source": [
    "a=rand(3,3)"
   ]
  },
  {
   "cell_type": "code",
   "execution_count": 10,
   "id": "889ef89f",
   "metadata": {},
   "outputs": [
    {
     "data": {
      "text/plain": [
       "3-element Vector{Float64}:\n",
       " 19.0\n",
       "  8.0\n",
       "  8.0"
      ]
     },
     "execution_count": 10,
     "metadata": {},
     "output_type": "execute_result"
    }
   ],
   "source": [
    "b=A*x"
   ]
  },
  {
   "cell_type": "code",
   "execution_count": 11,
   "id": "1d66f8d7",
   "metadata": {},
   "outputs": [
    {
     "data": {
      "text/plain": [
       "3×3 Matrix{Int64}:\n",
       " 34  5  4\n",
       "  5  2  4\n",
       "  4  4  8"
      ]
     },
     "execution_count": 11,
     "metadata": {},
     "output_type": "execute_result"
    }
   ],
   "source": [
    "Asym=A+A'"
   ]
  },
  {
   "cell_type": "code",
   "execution_count": 12,
   "id": "364fe01b",
   "metadata": {},
   "outputs": [
    {
     "data": {
      "text/plain": [
       "3×3 Matrix{Int64}:\n",
       " 314  24  41\n",
       "  24   3   8\n",
       "  41   8  26"
      ]
     },
     "execution_count": 12,
     "metadata": {},
     "output_type": "execute_result"
    }
   ],
   "source": [
    "Apd=A'A"
   ]
  },
  {
   "cell_type": "code",
   "execution_count": 13,
   "id": "ad1e233e",
   "metadata": {},
   "outputs": [
    {
     "data": {
      "text/plain": [
       "3-element Vector{Float64}:\n",
       " 1.0\n",
       " 0.9999999999999992\n",
       " 1.0000000000000002"
      ]
     },
     "execution_count": 13,
     "metadata": {},
     "output_type": "execute_result"
    }
   ],
   "source": [
    "A\\b"
   ]
  },
  {
   "cell_type": "code",
   "execution_count": 14,
   "id": "887f82ab",
   "metadata": {},
   "outputs": [
    {
     "data": {
      "text/plain": [
       "3×2 Matrix{Int64}:\n",
       " 17  1\n",
       "  4  1\n",
       "  3  1"
      ]
     },
     "metadata": {},
     "output_type": "display_data"
    },
    {
     "data": {
      "text/plain": [
       "2-element Vector{Float64}:\n",
       " 0.8114754098360653\n",
       " 5.174863387978141"
      ]
     },
     "execution_count": 14,
     "metadata": {},
     "output_type": "execute_result"
    }
   ],
   "source": [
    "#overdeterminded system \n",
    "Atall=A[:,1:2]\n",
    "display(Atall)\n",
    "Atall\\b"
   ]
  },
  {
   "cell_type": "code",
   "execution_count": 15,
   "id": "25f2c555",
   "metadata": {},
   "outputs": [
    {
     "data": {
      "text/plain": [
       "3×3 Matrix{Float64}:\n",
       " 0.569728   0.446424  0.990856\n",
       " 0.0592037  0.390105  0.769714\n",
       " 0.106725   0.361745  0.427904"
      ]
     },
     "execution_count": 15,
     "metadata": {},
     "output_type": "execute_result"
    }
   ],
   "source": [
    "A=rand(3,3)"
   ]
  },
  {
   "cell_type": "code",
   "execution_count": 21,
   "id": "91e84a71",
   "metadata": {},
   "outputs": [
    {
     "data": {
      "text/plain": [
       "2×3 Matrix{Float64}:\n",
       " 0.569728   0.446424  0.990856\n",
       " 0.0592037  0.390105  0.769714"
      ]
     },
     "metadata": {},
     "output_type": "display_data"
    },
    {
     "data": {
      "text/plain": [
       "3-element Vector{Float64}:\n",
       " 17.867489441387505\n",
       "  2.0857370124685515\n",
       "  7.9620784663055675"
      ]
     },
     "execution_count": 21,
     "metadata": {},
     "output_type": "execute_result"
    }
   ],
   "source": [
    "#underdetermined system\n",
    "Ashort=A[1:2,:]\n",
    "display(Ashort)\n",
    "Ashort\\b[1:2]"
   ]
  },
  {
   "cell_type": "code",
   "execution_count": null,
   "id": "88ed3ce0",
   "metadata": {},
   "outputs": [],
   "source": []
  }
 ],
 "metadata": {
  "kernelspec": {
   "display_name": "Julia 1.7.1",
   "language": "julia",
   "name": "julia-1.7"
  },
  "language_info": {
   "file_extension": ".jl",
   "mimetype": "application/julia",
   "name": "julia",
   "version": "1.7.1"
  }
 },
 "nbformat": 4,
 "nbformat_minor": 5
}
