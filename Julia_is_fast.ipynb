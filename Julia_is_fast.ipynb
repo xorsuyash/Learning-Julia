{
 "cells": [
  {
   "cell_type": "code",
   "execution_count": 1,
   "id": "35c35a54",
   "metadata": {},
   "outputs": [
    {
     "data": {
      "text/plain": [
       "10000000-element Vector{Float64}:\n",
       " 0.3102692326810993\n",
       " 0.1156688620787939\n",
       " 0.4260868910371971\n",
       " 0.506823243365735\n",
       " 0.13697648584091315\n",
       " 0.06553555095364061\n",
       " 0.9673430071049539\n",
       " 0.20753217501948262\n",
       " 0.33580442077283523\n",
       " 0.013036559942278148\n",
       " 0.38538160972221336\n",
       " 0.17480614417963336\n",
       " 0.4132965539543074\n",
       " ⋮\n",
       " 0.4074661475621605\n",
       " 0.4300332558187766\n",
       " 0.07766298283929629\n",
       " 0.07237569297092283\n",
       " 0.21589718683699033\n",
       " 0.39423788439230445\n",
       " 0.6302974797732642\n",
       " 0.6273536334633313\n",
       " 0.5984106969304726\n",
       " 0.3858311429280089\n",
       " 0.6855299276983483\n",
       " 0.5245066782529604"
      ]
     },
     "execution_count": 1,
     "metadata": {},
     "output_type": "execute_result"
    }
   ],
   "source": [
    "a=rand(10^7)"
   ]
  },
  {
   "cell_type": "code",
   "execution_count": 2,
   "id": "39453b31",
   "metadata": {},
   "outputs": [
    {
     "data": {
      "text/plain": [
       "5.0001174847051585e6"
      ]
     },
     "execution_count": 2,
     "metadata": {},
     "output_type": "execute_result"
    }
   ],
   "source": [
    "sum(a)"
   ]
  },
  {
   "cell_type": "code",
   "execution_count": 3,
   "id": "5c5d943c",
   "metadata": {},
   "outputs": [],
   "source": [
    "using Pkg"
   ]
  },
  {
   "cell_type": "code",
   "execution_count": 4,
   "id": "40af368e",
   "metadata": {},
   "outputs": [
    {
     "name": "stderr",
     "output_type": "stream",
     "text": [
      "\u001b[32m\u001b[1m    Updating\u001b[22m\u001b[39m registry at `~/.julia/registries/General.toml`\n",
      "\u001b[32m\u001b[1m   Resolving\u001b[22m\u001b[39m package versions...\n",
      "\u001b[32m\u001b[1m  No Changes\u001b[22m\u001b[39m to `~/.julia/environments/v1.7/Project.toml`\n",
      "\u001b[32m\u001b[1m  No Changes\u001b[22m\u001b[39m to `~/.julia/environments/v1.7/Manifest.toml`\n"
     ]
    }
   ],
   "source": [
    "Pkg.add(\"BenchmarkTools\")"
   ]
  },
  {
   "cell_type": "code",
   "execution_count": 5,
   "id": "4dac1283",
   "metadata": {},
   "outputs": [],
   "source": [
    "using BenchmarkTools "
   ]
  },
  {
   "cell_type": "code",
   "execution_count": 8,
   "id": "a6c42e19",
   "metadata": {},
   "outputs": [
    {
     "name": "stderr",
     "output_type": "stream",
     "text": [
      "WARNING: redefinition of constant Clib. This may fail, cause incorrect answers, or produce other errors.\n"
     ]
    },
    {
     "ename": "LoadError",
     "evalue": "UndefVarError: Libdl not defined",
     "output_type": "error",
     "traceback": [
      "UndefVarError: Libdl not defined",
      "",
      "Stacktrace:",
      " [1] top-level scope",
      "   @ In[8]:13",
      " [2] eval",
      "   @ ./boot.jl:373 [inlined]",
      " [3] include_string(mapexpr::typeof(REPL.softscope), mod::Module, code::String, filename::String)",
      "   @ Base ./loading.jl:1196"
     ]
    }
   ],
   "source": [
    "c_code=\"\"\" \n",
    "#include<stddef.h>\n",
    "double c_sum(size_t n, double *X)\n",
    "{\n",
    "   double s=0.0;\n",
    "    for(size_t i=0-;i<n;i++)\n",
    "{\n",
    "        s+=X[i];\n",
    "}\n",
    "return s;\n",
    "}\"\"\"\n",
    "const Clib=tempname() \n",
    "open(`gcc -fPIC -O3 -msse3 -xc -shared -o $(Clib * \".\" * Libdl.dlext) -`,\"w\") do f\n",
    "    print(f, C_code)\n",
    "end \n",
    "c_sum(X::Array{Float64})=ccall((\"c_sum\",Clib),Float64 ,(Csize_t,Ptr{Float64}),length(X),X)"
   ]
  },
  {
   "cell_type": "code",
   "execution_count": null,
   "id": "82599e9c",
   "metadata": {},
   "outputs": [],
   "source": []
  }
 ],
 "metadata": {
  "kernelspec": {
   "display_name": "Julia 1.7.1",
   "language": "julia",
   "name": "julia-1.7"
  },
  "language_info": {
   "file_extension": ".jl",
   "mimetype": "application/julia",
   "name": "julia",
   "version": "1.7.1"
  }
 },
 "nbformat": 4,
 "nbformat_minor": 5
}
