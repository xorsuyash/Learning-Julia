{
 "cells": [
  {
   "cell_type": "code",
   "execution_count": 1,
   "id": "202fe430",
   "metadata": {},
   "outputs": [
    {
     "data": {
      "text/plain": [
       "Int64"
      ]
     },
     "execution_count": 1,
     "metadata": {},
     "output_type": "execute_result"
    }
   ],
   "source": [
    "my_answe=45\n",
    "typeof(my_answe)"
   ]
  },
  {
   "cell_type": "code",
   "execution_count": 2,
   "id": "061a0257",
   "metadata": {},
   "outputs": [],
   "source": [
    "#Strings "
   ]
  },
  {
   "cell_type": "code",
   "execution_count": 3,
   "id": "1d45d18e",
   "metadata": {},
   "outputs": [
    {
     "data": {
      "text/plain": [
       "\"Julia is love \""
      ]
     },
     "execution_count": 3,
     "metadata": {},
     "output_type": "execute_result"
    }
   ],
   "source": [
    "s1=\"Julia is love \"\n"
   ]
  },
  {
   "cell_type": "code",
   "execution_count": 4,
   "id": "88cbd67e",
   "metadata": {},
   "outputs": [
    {
     "name": "stdout",
     "output_type": "stream",
     "text": [
      "hello my name is jane .\n",
      "I have 10 fingers and 10 and total of 20 fingers\n"
     ]
    }
   ],
   "source": [
    "name=\"jane\"\n",
    "num_fingers=10\n",
    "num_toes=10\n",
    "println(\"hello my name is $name .\")\n",
    "println(\"I have $num_fingers fingers and $num_toes and total of $(num_fingers+num_toes) fingers\")"
   ]
  },
  {
   "cell_type": "code",
   "execution_count": 5,
   "id": "0fc7729a",
   "metadata": {},
   "outputs": [
    {
     "data": {
      "text/plain": [
       "\" How many cats 10 how many cats are too many cats \""
      ]
     },
     "execution_count": 5,
     "metadata": {},
     "output_type": "execute_result"
    }
   ],
   "source": [
    "s1= \" How many cats \"\n",
    "s2=\" how many cats are too many cats \"\n",
    "string(s1, 10 ,s2)"
   ]
  },
  {
   "cell_type": "code",
   "execution_count": 6,
   "id": "a3f1522f",
   "metadata": {},
   "outputs": [
    {
     "data": {
      "text/plain": [
       "\" How many cats  how many cats are too many cats \""
      ]
     },
     "execution_count": 6,
     "metadata": {},
     "output_type": "execute_result"
    }
   ],
   "source": [
    "s1*s2 "
   ]
  },
  {
   "cell_type": "code",
   "execution_count": 7,
   "id": "76c50556",
   "metadata": {},
   "outputs": [
    {
     "data": {
      "text/plain": [
       "\" How many cats  how many cats are too many cats \""
      ]
     },
     "execution_count": 7,
     "metadata": {},
     "output_type": "execute_result"
    }
   ],
   "source": [
    "\"$s1$s2\""
   ]
  },
  {
   "cell_type": "code",
   "execution_count": 8,
   "id": "ef5aac91",
   "metadata": {},
   "outputs": [],
   "source": [
    "#datstructures \n",
    "#1. Ditionaries \n",
    "#2. Tuples \n",
    "#3 . Arrays"
   ]
  },
  {
   "cell_type": "code",
   "execution_count": 9,
   "id": "2817d9a7",
   "metadata": {},
   "outputs": [
    {
     "data": {
      "text/plain": [
       "Dict{String, String} with 2 entries:\n",
       "  \"Jenny\"        => \"8810624934\"\n",
       "  \"ghostbusters\" => \"9616940085\""
      ]
     },
     "execution_count": 9,
     "metadata": {},
     "output_type": "execute_result"
    }
   ],
   "source": [
    "myphonebook=Dict(\"Jenny\"=> \"8810624934\",\"ghostbusters\"=>\"9616940085\")"
   ]
  },
  {
   "cell_type": "code",
   "execution_count": 10,
   "id": "dc06b143",
   "metadata": {},
   "outputs": [
    {
     "data": {
      "text/plain": [
       "\"555009\""
      ]
     },
     "execution_count": 10,
     "metadata": {},
     "output_type": "execute_result"
    }
   ],
   "source": [
    "myphonebook[\"Kramer\"]=\"555009\""
   ]
  },
  {
   "cell_type": "code",
   "execution_count": 11,
   "id": "d4487240",
   "metadata": {},
   "outputs": [
    {
     "data": {
      "text/plain": [
       "Dict{String, String} with 3 entries:\n",
       "  \"Jenny\"        => \"8810624934\"\n",
       "  \"Kramer\"       => \"555009\"\n",
       "  \"ghostbusters\" => \"9616940085\""
      ]
     },
     "execution_count": 11,
     "metadata": {},
     "output_type": "execute_result"
    }
   ],
   "source": [
    "myphonebook "
   ]
  },
  {
   "cell_type": "code",
   "execution_count": 12,
   "id": "26e9994a",
   "metadata": {},
   "outputs": [
    {
     "data": {
      "text/plain": [
       "\"555009\""
      ]
     },
     "execution_count": 12,
     "metadata": {},
     "output_type": "execute_result"
    }
   ],
   "source": [
    "myphonebook[\"Kramer\"]"
   ]
  },
  {
   "cell_type": "code",
   "execution_count": 13,
   "id": "20b1d1e7",
   "metadata": {},
   "outputs": [
    {
     "data": {
      "text/plain": [
       "\"555009\""
      ]
     },
     "execution_count": 13,
     "metadata": {},
     "output_type": "execute_result"
    }
   ],
   "source": [
    "pop!(myphonebook,\"Kramer\")"
   ]
  },
  {
   "cell_type": "code",
   "execution_count": 14,
   "id": "07c92f8e",
   "metadata": {},
   "outputs": [
    {
     "data": {
      "text/plain": [
       "Dict{String, String} with 2 entries:\n",
       "  \"Jenny\"        => \"8810624934\"\n",
       "  \"ghostbusters\" => \"9616940085\""
      ]
     },
     "execution_count": 14,
     "metadata": {},
     "output_type": "execute_result"
    }
   ],
   "source": [
    "myphonebook \n"
   ]
  },
  {
   "cell_type": "code",
   "execution_count": 15,
   "id": "f0d2112c",
   "metadata": {},
   "outputs": [],
   "source": [
    "#Tuples "
   ]
  },
  {
   "cell_type": "code",
   "execution_count": 16,
   "id": "e155b3c6",
   "metadata": {},
   "outputs": [
    {
     "data": {
      "text/plain": [
       "(\"c++\", \"python\", \"Julia\")"
      ]
     },
     "execution_count": 16,
     "metadata": {},
     "output_type": "execute_result"
    }
   ],
   "source": [
    "myfavproglang=(\"c++\",\"python\",\"Julia\")"
   ]
  },
  {
   "cell_type": "code",
   "execution_count": 17,
   "id": "354664e6",
   "metadata": {},
   "outputs": [
    {
     "data": {
      "text/plain": [
       "\"c++\""
      ]
     },
     "execution_count": 17,
     "metadata": {},
     "output_type": "execute_result"
    }
   ],
   "source": [
    "myfavproglang[1]"
   ]
  },
  {
   "cell_type": "code",
   "execution_count": 18,
   "id": "c0836a03",
   "metadata": {},
   "outputs": [],
   "source": [
    "#julia is one indexed not zero indexed "
   ]
  },
  {
   "cell_type": "code",
   "execution_count": 19,
   "id": "d1e3ccd8",
   "metadata": {},
   "outputs": [],
   "source": [
    " #Arrays "
   ]
  },
  {
   "cell_type": "code",
   "execution_count": 20,
   "id": "01b5a5b3",
   "metadata": {},
   "outputs": [
    {
     "data": {
      "text/plain": [
       "3-element Vector{String}:\n",
       " \"COA\"\n",
       " \"OPs\"\n",
       " \"ML\""
      ]
     },
     "execution_count": 20,
     "metadata": {},
     "output_type": "execute_result"
    }
   ],
   "source": [
    "myfavsub=[\"COA\",\"OPs\",\"ML\"]"
   ]
  },
  {
   "cell_type": "code",
   "execution_count": 21,
   "id": "cd7e6b1f",
   "metadata": {},
   "outputs": [
    {
     "data": {
      "text/plain": [
       "\"COA\""
      ]
     },
     "execution_count": 21,
     "metadata": {},
     "output_type": "execute_result"
    }
   ],
   "source": [
    "myfavsub[1]"
   ]
  },
  {
   "cell_type": "code",
   "execution_count": 22,
   "id": "873036f4",
   "metadata": {},
   "outputs": [
    {
     "data": {
      "text/plain": [
       "6-element Vector{Any}:\n",
       "  \"njixne3\"\n",
       " 1\n",
       " 2\n",
       " 3\n",
       " 4\n",
       " 5"
      ]
     },
     "execution_count": 22,
     "metadata": {},
     "output_type": "execute_result"
    }
   ],
   "source": [
    "array=[\"njixne3\",1,2,3,4,5]"
   ]
  },
  {
   "cell_type": "code",
   "execution_count": 23,
   "id": "8b19dab9",
   "metadata": {},
   "outputs": [
    {
     "data": {
      "text/plain": [
       "3"
      ]
     },
     "execution_count": 23,
     "metadata": {},
     "output_type": "execute_result"
    }
   ],
   "source": [
    "array[1]=3"
   ]
  },
  {
   "cell_type": "code",
   "execution_count": 24,
   "id": "122e93fe",
   "metadata": {},
   "outputs": [
    {
     "data": {
      "text/plain": [
       "6-element Vector{Any}:\n",
       " 3\n",
       " 1\n",
       " 2\n",
       " 3\n",
       " 4\n",
       " 5"
      ]
     },
     "execution_count": 24,
     "metadata": {},
     "output_type": "execute_result"
    }
   ],
   "source": [
    "array"
   ]
  },
  {
   "cell_type": "code",
   "execution_count": 25,
   "id": "297b98cd",
   "metadata": {},
   "outputs": [
    {
     "data": {
      "text/plain": [
       "7-element Vector{Any}:\n",
       "  3\n",
       "  1\n",
       "  2\n",
       "  3\n",
       "  4\n",
       "  5\n",
       " 34"
      ]
     },
     "execution_count": 25,
     "metadata": {},
     "output_type": "execute_result"
    }
   ],
   "source": [
    "push!(array,34)"
   ]
  },
  {
   "cell_type": "code",
   "execution_count": 26,
   "id": "b3e1d2db",
   "metadata": {},
   "outputs": [
    {
     "data": {
      "text/plain": [
       "7-element Vector{Any}:\n",
       "  3\n",
       "  1\n",
       "  2\n",
       "  3\n",
       "  4\n",
       "  5\n",
       " 34"
      ]
     },
     "execution_count": 26,
     "metadata": {},
     "output_type": "execute_result"
    }
   ],
   "source": [
    "array"
   ]
  },
  {
   "cell_type": "code",
   "execution_count": 27,
   "id": "6dd41c4b",
   "metadata": {},
   "outputs": [
    {
     "data": {
      "text/plain": [
       "34"
      ]
     },
     "execution_count": 27,
     "metadata": {},
     "output_type": "execute_result"
    }
   ],
   "source": [
    "pop!(array)"
   ]
  },
  {
   "cell_type": "code",
   "execution_count": 28,
   "id": "b7cbe62f",
   "metadata": {},
   "outputs": [
    {
     "data": {
      "text/plain": [
       "6-element Vector{Any}:\n",
       " 3\n",
       " 1\n",
       " 2\n",
       " 3\n",
       " 4\n",
       " 5"
      ]
     },
     "execution_count": 28,
     "metadata": {},
     "output_type": "execute_result"
    }
   ],
   "source": [
    "array"
   ]
  },
  {
   "cell_type": "code",
   "execution_count": 29,
   "id": "bcd4891e",
   "metadata": {},
   "outputs": [
    {
     "data": {
      "text/plain": [
       "3-element Vector{Vector{Int64}}:\n",
       " [1, 2, 3]\n",
       " [4, 5]\n",
       " [2, 3, 4, 5, 6]"
      ]
     },
     "execution_count": 29,
     "metadata": {},
     "output_type": "execute_result"
    }
   ],
   "source": [
    "numbers=[[1,2,3],[4,5],[2,3,4,5,6]]"
   ]
  },
  {
   "cell_type": "code",
   "execution_count": 30,
   "id": "33311b92",
   "metadata": {},
   "outputs": [
    {
     "data": {
      "text/plain": [
       "4×3 Matrix{Float64}:\n",
       " 0.912189  0.648272  0.100523\n",
       " 0.461399  0.92889   0.109849\n",
       " 0.116487  0.570886  0.977186\n",
       " 0.372848  0.320913  0.72461"
      ]
     },
     "execution_count": 30,
     "metadata": {},
     "output_type": "execute_result"
    }
   ],
   "source": [
    "rand(4,3)"
   ]
  },
  {
   "cell_type": "code",
   "execution_count": 31,
   "id": "2a5d19b5",
   "metadata": {},
   "outputs": [
    {
     "data": {
      "text/plain": [
       "4×3×2 Array{Float64, 3}:\n",
       "[:, :, 1] =\n",
       " 0.28021    0.193322  0.835172\n",
       " 0.532776   0.194533  0.891155\n",
       " 0.0535921  0.433156  0.781056\n",
       " 0.681008   0.795036  0.976954\n",
       "\n",
       "[:, :, 2] =\n",
       " 0.898942  0.52073    0.766633\n",
       " 0.603456  0.958805   0.713108\n",
       " 0.477448  0.0501816  0.265514\n",
       " 0.972999  0.688322   0.670255"
      ]
     },
     "execution_count": 31,
     "metadata": {},
     "output_type": "execute_result"
    }
   ],
   "source": [
    "rand(4,3,2)"
   ]
  },
  {
   "cell_type": "code",
   "execution_count": 32,
   "id": "ff458f4d",
   "metadata": {},
   "outputs": [],
   "source": [
    "#loops "
   ]
  },
  {
   "cell_type": "code",
   "execution_count": 33,
   "id": "325d4b44",
   "metadata": {},
   "outputs": [
    {
     "name": "stdout",
     "output_type": "stream",
     "text": [
      "hi Ted ,it's great to meet you\n",
      "hi BONNY ,it's great to meet you\n",
      "hi Kanishk ,it's great to meet you\n"
     ]
    }
   ],
   "source": [
    "#while \n",
    "myfreinds=[\"Ted\",\"BONNY\",\"Kanishk\"]\n",
    "i=1\n",
    "while i<=length(myfreinds)\n",
    "    friend=myfreinds[i]\n",
    "    println(\"hi $friend ,it's great to meet you\")\n",
    "    i+=1\n",
    "end"
   ]
  },
  {
   "cell_type": "code",
   "execution_count": 34,
   "id": "dd489ff4",
   "metadata": {},
   "outputs": [
    {
     "name": "stdout",
     "output_type": "stream",
     "text": [
      "hello Ted\n",
      "hello BONNY\n",
      "hello Kanishk\n"
     ]
    }
   ],
   "source": [
    "#for \n",
    "for friends in myfreinds\n",
    "    println(\"hello $friends\")\n",
    "end"
   ]
  },
  {
   "cell_type": "code",
   "execution_count": 35,
   "id": "845a4dde",
   "metadata": {},
   "outputs": [
    {
     "data": {
      "text/plain": [
       "5×5 Matrix{Float64}:\n",
       " 0.0  0.0  0.0  0.0  0.0\n",
       " 0.0  0.0  0.0  0.0  0.0\n",
       " 0.0  0.0  0.0  0.0  0.0\n",
       " 0.0  0.0  0.0  0.0  0.0\n",
       " 0.0  0.0  0.0  0.0  0.0"
      ]
     },
     "execution_count": 35,
     "metadata": {},
     "output_type": "execute_result"
    }
   ],
   "source": [
    "m,n=5,5\n",
    "A=zeros(m,n)\n",
    "A"
   ]
  },
  {
   "cell_type": "code",
   "execution_count": 36,
   "id": "bf6ef3a8",
   "metadata": {},
   "outputs": [
    {
     "data": {
      "text/plain": [
       "5×5 Matrix{Float64}:\n",
       " 2.0  3.0  4.0  5.0   6.0\n",
       " 3.0  4.0  5.0  6.0   7.0\n",
       " 4.0  5.0  6.0  7.0   8.0\n",
       " 5.0  6.0  7.0  8.0   9.0\n",
       " 6.0  7.0  8.0  9.0  10.0"
      ]
     },
     "execution_count": 36,
     "metadata": {},
     "output_type": "execute_result"
    }
   ],
   "source": [
    "for i in 1:m\n",
    "    for j in 1:n\n",
    "        A[i,j]=i+j\n",
    "    end\n",
    "end\n",
    "A"
   ]
  },
  {
   "cell_type": "code",
   "execution_count": 37,
   "id": "428ce95e",
   "metadata": {},
   "outputs": [
    {
     "data": {
      "text/plain": [
       "5×5 Matrix{Float64}:\n",
       " 0.0  0.0  0.0  0.0  0.0\n",
       " 0.0  0.0  0.0  0.0  0.0\n",
       " 0.0  0.0  0.0  0.0  0.0\n",
       " 0.0  0.0  0.0  0.0  0.0\n",
       " 0.0  0.0  0.0  0.0  0.0"
      ]
     },
     "execution_count": 37,
     "metadata": {},
     "output_type": "execute_result"
    }
   ],
   "source": [
    "B=zeros(m,n)\n",
    "B"
   ]
  },
  {
   "cell_type": "code",
   "execution_count": 38,
   "id": "911c9482",
   "metadata": {},
   "outputs": [
    {
     "data": {
      "text/plain": [
       "5×5 Matrix{Float64}:\n",
       " 2.0  3.0  4.0  5.0   6.0\n",
       " 3.0  4.0  5.0  6.0   7.0\n",
       " 4.0  5.0  6.0  7.0   8.0\n",
       " 5.0  6.0  7.0  8.0   9.0\n",
       " 6.0  7.0  8.0  9.0  10.0"
      ]
     },
     "execution_count": 38,
     "metadata": {},
     "output_type": "execute_result"
    }
   ],
   "source": [
    "for i in 1:m , j in 1:n\n",
    "        B[i,j]=i+j\n",
    "end\n",
    "B"
   ]
  },
  {
   "cell_type": "code",
   "execution_count": 39,
   "id": "fc0fdc04",
   "metadata": {},
   "outputs": [],
   "source": [
    "#now more julian way of doing things "
   ]
  },
  {
   "cell_type": "code",
   "execution_count": 40,
   "id": "5269e92b",
   "metadata": {},
   "outputs": [
    {
     "data": {
      "text/plain": [
       "5×5 Matrix{Int64}:\n",
       " 2  3  4  5   6\n",
       " 3  4  5  6   7\n",
       " 4  5  6  7   8\n",
       " 5  6  7  8   9\n",
       " 6  7  8  9  10"
      ]
     },
     "execution_count": 40,
     "metadata": {},
     "output_type": "execute_result"
    }
   ],
   "source": [
    "#array comprehension \n",
    "C=[i+j for i in 1:m,j in 1:n]"
   ]
  },
  {
   "cell_type": "code",
   "execution_count": 41,
   "id": "a9174595",
   "metadata": {},
   "outputs": [
    {
     "data": {
      "text/plain": [
       "1×1 Matrix{Int64}:\n",
       " 2"
      ]
     },
     "metadata": {},
     "output_type": "display_data"
    },
    {
     "data": {
      "text/plain": [
       "2×2 Matrix{Int64}:\n",
       " 2  3\n",
       " 3  4"
      ]
     },
     "metadata": {},
     "output_type": "display_data"
    },
    {
     "data": {
      "text/plain": [
       "3×3 Matrix{Int64}:\n",
       " 2  3  4\n",
       " 3  4  5\n",
       " 4  5  6"
      ]
     },
     "metadata": {},
     "output_type": "display_data"
    },
    {
     "data": {
      "text/plain": [
       "4×4 Matrix{Int64}:\n",
       " 2  3  4  5\n",
       " 3  4  5  6\n",
       " 4  5  6  7\n",
       " 5  6  7  8"
      ]
     },
     "metadata": {},
     "output_type": "display_data"
    },
    {
     "data": {
      "text/plain": [
       "5×5 Matrix{Int64}:\n",
       " 2  3  4  5   6\n",
       " 3  4  5  6   7\n",
       " 4  5  6  7   8\n",
       " 5  6  7  8   9\n",
       " 6  7  8  9  10"
      ]
     },
     "metadata": {},
     "output_type": "display_data"
    },
    {
     "data": {
      "text/plain": [
       "6×6 Matrix{Int64}:\n",
       " 2  3  4   5   6   7\n",
       " 3  4  5   6   7   8\n",
       " 4  5  6   7   8   9\n",
       " 5  6  7   8   9  10\n",
       " 6  7  8   9  10  11\n",
       " 7  8  9  10  11  12"
      ]
     },
     "metadata": {},
     "output_type": "display_data"
    },
    {
     "data": {
      "text/plain": [
       "7×7 Matrix{Int64}:\n",
       " 2  3   4   5   6   7   8\n",
       " 3  4   5   6   7   8   9\n",
       " 4  5   6   7   8   9  10\n",
       " 5  6   7   8   9  10  11\n",
       " 6  7   8   9  10  11  12\n",
       " 7  8   9  10  11  12  13\n",
       " 8  9  10  11  12  13  14"
      ]
     },
     "metadata": {},
     "output_type": "display_data"
    },
    {
     "data": {
      "text/plain": [
       "8×8 Matrix{Int64}:\n",
       " 2   3   4   5   6   7   8   9\n",
       " 3   4   5   6   7   8   9  10\n",
       " 4   5   6   7   8   9  10  11\n",
       " 5   6   7   8   9  10  11  12\n",
       " 6   7   8   9  10  11  12  13\n",
       " 7   8   9  10  11  12  13  14\n",
       " 8   9  10  11  12  13  14  15\n",
       " 9  10  11  12  13  14  15  16"
      ]
     },
     "metadata": {},
     "output_type": "display_data"
    },
    {
     "data": {
      "text/plain": [
       "9×9 Matrix{Int64}:\n",
       "  2   3   4   5   6   7   8   9  10\n",
       "  3   4   5   6   7   8   9  10  11\n",
       "  4   5   6   7   8   9  10  11  12\n",
       "  5   6   7   8   9  10  11  12  13\n",
       "  6   7   8   9  10  11  12  13  14\n",
       "  7   8   9  10  11  12  13  14  15\n",
       "  8   9  10  11  12  13  14  15  16\n",
       "  9  10  11  12  13  14  15  16  17\n",
       " 10  11  12  13  14  15  16  17  18"
      ]
     },
     "metadata": {},
     "output_type": "display_data"
    },
    {
     "data": {
      "text/plain": [
       "10×10 Matrix{Int64}:\n",
       "  2   3   4   5   6   7   8   9  10  11\n",
       "  3   4   5   6   7   8   9  10  11  12\n",
       "  4   5   6   7   8   9  10  11  12  13\n",
       "  5   6   7   8   9  10  11  12  13  14\n",
       "  6   7   8   9  10  11  12  13  14  15\n",
       "  7   8   9  10  11  12  13  14  15  16\n",
       "  8   9  10  11  12  13  14  15  16  17\n",
       "  9  10  11  12  13  14  15  16  17  18\n",
       " 10  11  12  13  14  15  16  17  18  19\n",
       " 11  12  13  14  15  16  17  18  19  20"
      ]
     },
     "metadata": {},
     "output_type": "display_data"
    }
   ],
   "source": [
    "for n in 1:10\n",
    "    A=[i+j for i in 1:n, j in 1:n]\n",
    "    display(A)\n",
    "end"
   ]
  },
  {
   "cell_type": "code",
   "execution_count": 42,
   "id": "65c65b8a",
   "metadata": {},
   "outputs": [
    {
     "name": "stdout",
     "output_type": "stream",
     "text": [
      "10\n"
     ]
    }
   ],
   "source": [
    "x=9\n",
    "y=10\n",
    "if x > y\n",
    "    println(x)\n",
    "else \n",
    "    println(y)\n",
    "end"
   ]
  },
  {
   "cell_type": "code",
   "execution_count": 43,
   "id": "35bf15f8",
   "metadata": {},
   "outputs": [
    {
     "data": {
      "text/plain": [
       "sayhi (generic function with 1 method)"
      ]
     },
     "execution_count": 43,
     "metadata": {},
     "output_type": "execute_result"
    }
   ],
   "source": [
    "#functions \n",
    "function sayhi(name)\n",
    "    println(\"Hello $name\")\n",
    "end"
   ]
  },
  {
   "cell_type": "code",
   "execution_count": 44,
   "id": "dc10f24c",
   "metadata": {},
   "outputs": [
    {
     "name": "stdout",
     "output_type": "stream",
     "text": [
      "Hello suyash\n"
     ]
    }
   ],
   "source": [
    "sayhi(\"suyash\")"
   ]
  },
  {
   "cell_type": "code",
   "execution_count": 45,
   "id": "c7733730",
   "metadata": {},
   "outputs": [],
   "source": [
    "#anonymus function "
   ]
  },
  {
   "cell_type": "code",
   "execution_count": 46,
   "id": "3fecd2ce",
   "metadata": {},
   "outputs": [
    {
     "data": {
      "text/plain": [
       "#7 (generic function with 1 method)"
      ]
     },
     "execution_count": 46,
     "metadata": {},
     "output_type": "execute_result"
    }
   ],
   "source": [
    "sayhi2=name->println(\"hehllo $name\")\n",
    "square=x->x^2"
   ]
  },
  {
   "cell_type": "code",
   "execution_count": 47,
   "id": "fd28f9ae",
   "metadata": {},
   "outputs": [
    {
     "name": "stdout",
     "output_type": "stream",
     "text": [
      "hehllo suyash\n"
     ]
    }
   ],
   "source": [
    "sayhi2(\"suyash\")\n"
   ]
  },
  {
   "cell_type": "code",
   "execution_count": 48,
   "id": "9fdca0bb",
   "metadata": {},
   "outputs": [
    {
     "data": {
      "text/plain": [
       "4"
      ]
     },
     "execution_count": 48,
     "metadata": {},
     "output_type": "execute_result"
    }
   ],
   "source": [
    "square(2)"
   ]
  },
  {
   "cell_type": "code",
   "execution_count": 49,
   "id": "f788e7d6",
   "metadata": {},
   "outputs": [],
   "source": [
    "#duck typing in julia "
   ]
  },
  {
   "cell_type": "code",
   "execution_count": 50,
   "id": "fcb92eb0",
   "metadata": {},
   "outputs": [
    {
     "data": {
      "text/plain": [
       "3×3 Matrix{Float64}:\n",
       " 0.245613  0.143544  0.710781\n",
       " 0.611254  0.469895  0.0206121\n",
       " 0.684097  0.524198  0.948812"
      ]
     },
     "execution_count": 50,
     "metadata": {},
     "output_type": "execute_result"
    }
   ],
   "source": [
    "#if it quacks like a duck , it's a duck.\"\n",
    "v=rand(3,3)"
   ]
  },
  {
   "cell_type": "code",
   "execution_count": 51,
   "id": "6de7d7d0",
   "metadata": {},
   "outputs": [
    {
     "data": {
      "text/plain": [
       "3×3 Matrix{Float64}:\n",
       " 0.634311  0.475298  0.851934\n",
       " 0.451457  0.319348  0.46371\n",
       " 1.13752   0.841882  1.39729"
      ]
     },
     "execution_count": 51,
     "metadata": {},
     "output_type": "execute_result"
    }
   ],
   "source": [
    "square(v)"
   ]
  },
  {
   "cell_type": "code",
   "execution_count": 52,
   "id": "1aa7260e",
   "metadata": {},
   "outputs": [
    {
     "data": {
      "text/plain": [
       "3-element Vector{Float64}:\n",
       " 0.6260316679014707\n",
       " 0.007710480415127452\n",
       " 0.4662988082781867"
      ]
     },
     "execution_count": 52,
     "metadata": {},
     "output_type": "execute_result"
    }
   ],
   "source": [
    "#this works because square of a matrix is well defined \n",
    "v2=rand(3)"
   ]
  },
  {
   "cell_type": "code",
   "execution_count": 53,
   "id": "2a42b422",
   "metadata": {},
   "outputs": [
    {
     "ename": "LoadError",
     "evalue": "MethodError: no method matching ^(::Vector{Float64}, ::Int64)\n\u001b[0mClosest candidates are:\n\u001b[0m  ^(\u001b[91m::Union{AbstractChar, AbstractString}\u001b[39m, ::Integer) at /Applications/Julia-1.7.app/Contents/Resources/julia/share/julia/base/strings/basic.jl:721\n\u001b[0m  ^(\u001b[91m::LinearAlgebra.UniformScaling\u001b[39m, ::Number) at /Applications/Julia-1.7.app/Contents/Resources/julia/share/julia/stdlib/v1.7/LinearAlgebra/src/uniformscaling.jl:318\n\u001b[0m  ^(\u001b[91m::Rational\u001b[39m, ::Integer) at /Applications/Julia-1.7.app/Contents/Resources/julia/share/julia/base/rational.jl:475\n\u001b[0m  ...",
     "output_type": "error",
     "traceback": [
      "MethodError: no method matching ^(::Vector{Float64}, ::Int64)\n\u001b[0mClosest candidates are:\n\u001b[0m  ^(\u001b[91m::Union{AbstractChar, AbstractString}\u001b[39m, ::Integer) at /Applications/Julia-1.7.app/Contents/Resources/julia/share/julia/base/strings/basic.jl:721\n\u001b[0m  ^(\u001b[91m::LinearAlgebra.UniformScaling\u001b[39m, ::Number) at /Applications/Julia-1.7.app/Contents/Resources/julia/share/julia/stdlib/v1.7/LinearAlgebra/src/uniformscaling.jl:318\n\u001b[0m  ^(\u001b[91m::Rational\u001b[39m, ::Integer) at /Applications/Julia-1.7.app/Contents/Resources/julia/share/julia/base/rational.jl:475\n\u001b[0m  ...",
      "",
      "Stacktrace:",
      " [1] literal_pow",
      "   @ ./intfuncs.jl:325 [inlined]",
      " [2] (::var\"#7#8\")(x::Vector{Float64})",
      "   @ Main ./In[46]:2",
      " [3] top-level scope",
      "   @ In[53]:1",
      " [4] eval",
      "   @ ./boot.jl:373 [inlined]",
      " [5] include_string(mapexpr::typeof(REPL.softscope), mod::Module, code::String, filename::String)",
      "   @ Base ./loading.jl:1196"
     ]
    }
   ],
   "source": [
    "square(v2)"
   ]
  },
  {
   "cell_type": "code",
   "execution_count": 54,
   "id": "1c9aa9a8",
   "metadata": {},
   "outputs": [],
   "source": [
    "#this happened because square on 1 d array in not defined"
   ]
  },
  {
   "cell_type": "code",
   "execution_count": 55,
   "id": "433aad0a",
   "metadata": {},
   "outputs": [],
   "source": [
    "#mutating vs non- mutating function"
   ]
  },
  {
   "cell_type": "code",
   "execution_count": 56,
   "id": "108c36e9",
   "metadata": {},
   "outputs": [
    {
     "data": {
      "text/plain": [
       "3-element Vector{Int64}:\n",
       " 3\n",
       " 4\n",
       " 5"
      ]
     },
     "execution_count": 56,
     "metadata": {},
     "output_type": "execute_result"
    }
   ],
   "source": [
    "v=[4,3,5]\n",
    "# sort() will give the output but will not alter the element of that array but sort!() will alter the element \n",
    "sort(v)\n"
   ]
  },
  {
   "cell_type": "code",
   "execution_count": 57,
   "id": "0431c401",
   "metadata": {},
   "outputs": [
    {
     "data": {
      "text/plain": [
       "3-element Vector{Int64}:\n",
       " 4\n",
       " 3\n",
       " 5"
      ]
     },
     "execution_count": 57,
     "metadata": {},
     "output_type": "execute_result"
    }
   ],
   "source": [
    "v"
   ]
  },
  {
   "cell_type": "code",
   "execution_count": 58,
   "id": "2bb74f2f",
   "metadata": {},
   "outputs": [
    {
     "data": {
      "text/plain": [
       "3-element Vector{Int64}:\n",
       " 3\n",
       " 4\n",
       " 5"
      ]
     },
     "execution_count": 58,
     "metadata": {},
     "output_type": "execute_result"
    }
   ],
   "source": [
    "sort!(v)"
   ]
  },
  {
   "cell_type": "code",
   "execution_count": 59,
   "id": "d23711d9",
   "metadata": {},
   "outputs": [
    {
     "data": {
      "text/plain": [
       "3-element Vector{Int64}:\n",
       " 3\n",
       " 4\n",
       " 5"
      ]
     },
     "execution_count": 59,
     "metadata": {},
     "output_type": "execute_result"
    }
   ],
   "source": [
    "v"
   ]
  },
  {
   "cell_type": "code",
   "execution_count": 60,
   "id": "b48a2635",
   "metadata": {},
   "outputs": [
    {
     "data": {
      "text/plain": [
       "3×3 Matrix{Float64}:\n",
       " 0.260583  0.153432  0.111916\n",
       " 0.29766   0.937099  0.776231\n",
       " 0.139473  0.862067  0.70579"
      ]
     },
     "execution_count": 60,
     "metadata": {},
     "output_type": "execute_result"
    }
   ],
   "source": [
    "#broadcasting f.()\n",
    "A=rand(3,3)"
   ]
  },
  {
   "cell_type": "code",
   "execution_count": 61,
   "id": "50ee1333",
   "metadata": {},
   "outputs": [
    {
     "data": {
      "text/plain": [
       "3×3 Matrix{Float64}:\n",
       " 0.129183  0.280241  0.227251\n",
       " 0.464765  1.59299   1.30857\n",
       " 0.391386  1.43768   1.18291"
      ]
     },
     "execution_count": 61,
     "metadata": {},
     "output_type": "execute_result"
    }
   ],
   "source": [
    "square(A)"
   ]
  },
  {
   "cell_type": "code",
   "execution_count": 62,
   "id": "0de5b58a",
   "metadata": {},
   "outputs": [
    {
     "data": {
      "text/plain": [
       "3-element Vector{Int64}:\n",
       " 1\n",
       " 4\n",
       " 9"
      ]
     },
     "execution_count": 62,
     "metadata": {},
     "output_type": "execute_result"
    }
   ],
   "source": [
    "C=[1,2,3]\n",
    "square.(C)"
   ]
  },
  {
   "cell_type": "code",
   "execution_count": 63,
   "id": "98886a28",
   "metadata": {},
   "outputs": [
    {
     "data": {
      "text/plain": [
       "3×3 Matrix{Float64}:\n",
       " 0.0679035  0.0235413  0.0125251\n",
       " 0.0886017  0.878154   0.602535\n",
       " 0.0194526  0.743159   0.49814"
      ]
     },
     "execution_count": 63,
     "metadata": {},
     "output_type": "execute_result"
    }
   ],
   "source": [
    "square.(A)"
   ]
  },
  {
   "cell_type": "code",
   "execution_count": null,
   "id": "61a10262",
   "metadata": {},
   "outputs": [],
   "source": []
  }
 ],
 "metadata": {
  "kernelspec": {
   "display_name": "Julia 1.7.1",
   "language": "julia",
   "name": "julia-1.7"
  },
  "language_info": {
   "file_extension": ".jl",
   "mimetype": "application/julia",
   "name": "julia",
   "version": "1.7.1"
  }
 },
 "nbformat": 4,
 "nbformat_minor": 5
}
