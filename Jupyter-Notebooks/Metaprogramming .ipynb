{
 "cells": [
  {
   "cell_type": "code",
   "execution_count": 1,
   "id": "6162e089",
   "metadata": {},
   "outputs": [],
   "source": [
    "#writing Codes that manipulates other code "
   ]
  },
  {
   "cell_type": "code",
   "execution_count": null,
   "id": "6c969e29",
   "metadata": {},
   "outputs": [],
   "source": []
  }
 ],
 "metadata": {
  "kernelspec": {
   "display_name": "Julia 1.8.4",
   "language": "julia",
   "name": "julia-1.8"
  },
  "language_info": {
   "file_extension": ".jl",
   "mimetype": "application/julia",
   "name": "julia",
   "version": "1.8.4"
  }
 },
 "nbformat": 4,
 "nbformat_minor": 5
}
