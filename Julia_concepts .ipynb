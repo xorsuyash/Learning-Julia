{
 "cells": [
  {
   "cell_type": "code",
   "execution_count": 1,
   "id": "3734e9c5",
   "metadata": {},
   "outputs": [],
   "source": [
    "using PyCall \n"
   ]
  },
  {
   "cell_type": "code",
   "execution_count": 2,
   "id": "6c5041af",
   "metadata": {},
   "outputs": [
    {
     "data": {
      "text/plain": [
       "PyObject <module 'numpy' from '/Users/suyash/.julia/conda/3/lib/python3.10/site-packages/numpy/__init__.py'>"
      ]
     },
     "execution_count": 2,
     "metadata": {},
     "output_type": "execute_result"
    }
   ],
   "source": [
    "np=pyimport(\"numpy\")"
   ]
  },
  {
   "cell_type": "code",
   "execution_count": 4,
   "id": "ef1c632c",
   "metadata": {},
   "outputs": [
    {
     "data": {
      "text/plain": [
       "2×3 Matrix{Float64}:\n",
       " 0.723457  0.702664  0.271787\n",
       " 0.643763  0.894688  0.446479"
      ]
     },
     "execution_count": 4,
     "metadata": {},
     "output_type": "execute_result"
    }
   ],
   "source": [
    "a=np.random.rand(2,3)"
   ]
  },
  {
   "cell_type": "code",
   "execution_count": 5,
   "id": "007727d6",
   "metadata": {},
   "outputs": [
    {
     "data": {
      "text/plain": [
       "2×3 Matrix{Float64}:\n",
       " 2.06155  2.01912  1.31231\n",
       " 1.90363  2.44657  1.5628"
      ]
     },
     "execution_count": 5,
     "metadata": {},
     "output_type": "execute_result"
    }
   ],
   "source": [
    "exp_a=np.exp(a)"
   ]
  },
  {
   "cell_type": "code",
   "execution_count": 7,
   "id": "97038ad8",
   "metadata": {},
   "outputs": [
    {
     "name": "stdout",
     "output_type": "stream",
     "text": [
      "π ≈ 3.141592663589326\n",
      "Error is 9.999532757376528e-09\n"
     ]
    }
   ],
   "source": [
    "py\"\"\"\n",
    "import math\n",
    "\n",
    "def estimate_pi(n):\n",
    "    s = 1.0\n",
    "    for i in range(1, n + 1):\n",
    "        s += (-1 if i % 2 else 1) / (2 * i + 1)\n",
    "    return 4 * s\n",
    "\n",
    "p = estimate_pi(100_000_000)\n",
    "print(f\"π ≈ {p}\") # f-strings are available in Python 3.6+\n",
    "print(f\"Error is {p - math.pi}\")\n",
    "\"\"\""
   ]
  },
  {
   "cell_type": "code",
   "execution_count": null,
   "id": "d330a60e",
   "metadata": {},
   "outputs": [],
   "source": []
  }
 ],
 "metadata": {
  "kernelspec": {
   "display_name": "Julia 1.7.1",
   "language": "julia",
   "name": "julia-1.7"
  },
  "language_info": {
   "file_extension": ".jl",
   "mimetype": "application/julia",
   "name": "julia",
   "version": "1.7.1"
  }
 },
 "nbformat": 4,
 "nbformat_minor": 5
}
